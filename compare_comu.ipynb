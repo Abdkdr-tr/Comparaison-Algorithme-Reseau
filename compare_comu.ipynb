{
 "cells": [
  {
   "cell_type": "code",
   "execution_count": 1,
   "id": "427201b0",
   "metadata": {},
   "outputs": [],
   "source": [
    "from comu import *\n",
    "from fonctions_SAE1 import *\n",
    "from time import time"
   ]
  },
  {
   "cell_type": "markdown",
   "id": "0d959a89",
   "metadata": {},
   "source": [
    "### Question 2\n",
    "Comparaison\n",
    "\n",
    "La fonction cree_reseau est plus efficace que la fonction dico_reseau car même si dans l'exemple de la sae elle est plus rapide elle est de complexité quadratique alors que la fonction cree_reseau est de complexité linéaire et donc sur des fichiers de plus en plus grands elle sera moins efficace que cree_reseau."
   ]
  },
  {
   "cell_type": "code",
   "execution_count": 6,
   "id": "c5c63068",
   "metadata": {},
   "outputs": [
    {
     "name": "stdout",
     "output_type": "stream",
     "text": [
      "0.17  ms\n",
      "0.45  ms\n"
     ]
    }
   ],
   "source": [
    "'''Question 2'''\n",
    "tab_amis = lecture_reseau(\"files/Communaute.csv\")\n",
    "tic1 = time()       # top départ\n",
    "\n",
    "########### Début du traitement à chronométer ###########\n",
    "cree_reseau(tab_amis)\n",
    "############ Fin du traitement à chronométer ############\n",
    "\n",
    "tac1 = time()       # arrêt du chronomètre\n",
    "\n",
    "#----------------------------------\n",
    "tic2 = time()       # top départ\n",
    "\n",
    "########### Début du traitement à chronométer ###########\n",
    "dico_reseau(tab_amis)\n",
    "############ Fin du traitement à chronométer ############\n",
    "\n",
    "tac2 = time()       # arrêt du chronomètre\n",
    "\n",
    "#----------------------------------\n",
    "\n",
    "print(round(1000*(tac1-tic1),2),\" ms\")     # on convertit en ms et on arrondit au centième\n",
    "print(round(1000*(tac2-tic2),2),\" ms\")     # on convertit en ms et on arrondit au centième"
   ]
  },
  {
   "cell_type": "markdown",
   "id": "3db7f4bd",
   "metadata": {},
   "source": [
    "### Question 11\n",
    "\n",
    "Comparaison\n",
    "\n",
    "La complexité de la première et la deuxième fonction sont quadratique.\n",
    "De plus, si le réseau contient 1000 membres, alors le premier algorithme aura besoin d'environ 8 000 000 d'opérations alors que le deuxième aura besoin d'environ 9 000 000 d'opérations élémentaires. \n",
    "Théoriquement, pour un reseau de 1000 membres, le premier algorithme est donc environ 1.125 fois plus rapide (9000000/8000000). On retrouve un résultat similaire dans la pratique en comparant les temps d'exécution.\n",
    "\n"
   ]
  },
  {
   "cell_type": "code",
   "execution_count": 68,
   "id": "7c27a548",
   "metadata": {},
   "outputs": [
    {
     "name": "stdout",
     "output_type": "stream",
     "text": [
      "0.09  ms\n",
      "0.19  ms\n"
     ]
    }
   ],
   "source": [
    "'''Question 11'''\n",
    "tic1 = time()       # top départ\n",
    "\n",
    "########### Début du traitement à chronométer ###########\n",
    "comu_dans_reseau(amis)\n",
    "############ Fin du traitement à chronométer ############\n",
    "\n",
    "tac1 = time()       # arrêt du chronomètre\n",
    "\n",
    "#----------------------------------\n",
    "\n",
    "tic2 = time()       # top départ\n",
    "\n",
    "########### Début du traitement à chronométer ###########\n",
    "t_membres = liste_personnes(amis)\n",
    "tri_popu(amis, t_membres)\n",
    "popu_max = t_membres[0]\n",
    "\n",
    "comu_dans_amis(amis,popu_max)\n",
    "############ Fin du traitement à chronométer ############\n",
    "\n",
    "tac2 = time()       # arrêt du chronomètre\n",
    "\n",
    "print(round(1000*(tac1-tic1),2),\" ms\")     # on convertit en ms et on arrondit au centième\n",
    "print(round(1000*(tac2-tic2),2),\" ms\")     # on convertit en ms et on arrondit au centième"
   ]
  }
 ],
 "metadata": {
  "kernelspec": {
   "display_name": "Python 3 (ipykernel)",
   "language": "python",
   "name": "python3"
  },
  "language_info": {
   "codemirror_mode": {
    "name": "ipython",
    "version": 3
   },
   "file_extension": ".py",
   "mimetype": "text/x-python",
   "name": "python",
   "nbconvert_exporter": "python",
   "pygments_lexer": "ipython3",
   "version": "3.12.3"
  }
 },
 "nbformat": 4,
 "nbformat_minor": 5
}
